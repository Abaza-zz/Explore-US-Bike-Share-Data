{
 "cells": [
  {
   "cell_type": "code",
   "execution_count": 74,
   "metadata": {},
   "outputs": [],
   "source": [
    "import pandas as pd\n",
    "\n",
    "df = pd.read_csv(\"chicago.csv\")\n",
    "\n",
    "#['Start Time', 'End Time', 'Trip Duration', 'Start Station',\n",
    "  # 'End Station', 'User Type', 'Gender', 'Birth Year'],\n",
    "\n",
    "df = df.rename(columns={'Start Station': 'SStation', 'End Station': 'EStation'})\n",
    "\n",
    "start_station_count=df['SStation'].value_counts()\n",
    "\n",
    "most_common_start=start_station_count.index[0]\n",
    "\n",
    "end_station_count=df['EStation'].value_counts()\n",
    "\n",
    "df['Start Time']=pd.DatetimeIndex(df['Start Time'])\n",
    "\n",
    "#print(df.head())  # start by viewing the first few rows of the dataset!"
   ]
  },
  {
   "cell_type": "code",
   "execution_count": 48,
   "metadata": {},
   "outputs": [
    {
     "data": {
      "text/plain": [
       "Unnamed: 0         int64\n",
       "Start Time        object\n",
       "End Time          object\n",
       "Trip Duration      int64\n",
       "SStation          object\n",
       "EStation          object\n",
       "User Type         object\n",
       "Gender            object\n",
       "Birth Year       float64\n",
       "dtype: object"
      ]
     },
     "execution_count": 48,
     "metadata": {},
     "output_type": "execute_result"
    }
   ],
   "source": [
    "df.dtypes"
   ]
  },
  {
   "cell_type": "code",
   "execution_count": 55,
   "metadata": {},
   "outputs": [
    {
     "data": {
      "text/html": [
       "<div>\n",
       "<style scoped>\n",
       "    .dataframe tbody tr th:only-of-type {\n",
       "        vertical-align: middle;\n",
       "    }\n",
       "\n",
       "    .dataframe tbody tr th {\n",
       "        vertical-align: top;\n",
       "    }\n",
       "\n",
       "    .dataframe thead th {\n",
       "        text-align: right;\n",
       "    }\n",
       "</style>\n",
       "<table border=\"1\" class=\"dataframe\">\n",
       "  <thead>\n",
       "    <tr style=\"text-align: right;\">\n",
       "      <th></th>\n",
       "      <th>Unnamed: 0</th>\n",
       "      <th>Start Time</th>\n",
       "      <th>End Time</th>\n",
       "      <th>Trip Duration</th>\n",
       "      <th>SStation</th>\n",
       "      <th>EStation</th>\n",
       "      <th>User Type</th>\n",
       "      <th>Gender</th>\n",
       "      <th>Birth Year</th>\n",
       "    </tr>\n",
       "  </thead>\n",
       "  <tbody>\n",
       "    <tr>\n",
       "      <th>0</th>\n",
       "      <td>1423854</td>\n",
       "      <td>2017-06-23 15:09:32</td>\n",
       "      <td>2017-06-23 15:14:53</td>\n",
       "      <td>321</td>\n",
       "      <td>Wood St &amp; Hubbard St</td>\n",
       "      <td>Damen Ave &amp; Chicago Ave</td>\n",
       "      <td>Subscriber</td>\n",
       "      <td>Male</td>\n",
       "      <td>1992.0</td>\n",
       "    </tr>\n",
       "  </tbody>\n",
       "</table>\n",
       "</div>"
      ],
      "text/plain": [
       "   Unnamed: 0           Start Time             End Time  Trip Duration  \\\n",
       "0     1423854  2017-06-23 15:09:32  2017-06-23 15:14:53            321   \n",
       "\n",
       "               SStation                 EStation   User Type Gender  \\\n",
       "0  Wood St & Hubbard St  Damen Ave & Chicago Ave  Subscriber   Male   \n",
       "\n",
       "   Birth Year  \n",
       "0      1992.0  "
      ]
     },
     "execution_count": 55,
     "metadata": {},
     "output_type": "execute_result"
    }
   ],
   "source": [
    "df.head(1)"
   ]
  },
  {
   "cell_type": "code",
   "execution_count": 90,
   "metadata": {},
   "outputs": [
    {
     "data": {
      "text/plain": [
       "'Friday'"
      ]
     },
     "execution_count": 90,
     "metadata": {},
     "output_type": "execute_result"
    }
   ],
   "source": [
    "dayOfWeek={0:'Monday', 1:'Tuesday', 2:'Wednesday', 3:'Thursday', 4:'Friday', 5:'Saturday', 6:'Sunday'}\n",
    "df['weekday'] = df['Start Time'].dt.dayofweek.map(dayOfWeek)\n",
    "df['weekday'][0]"
   ]
  },
  {
   "cell_type": "code",
   "execution_count": 87,
   "metadata": {},
   "outputs": [
    {
     "data": {
      "text/plain": [
       "Subscriber    238889\n",
       "Customer       61110\n",
       "Dependent          1\n",
       "Name: User Type, dtype: int64"
      ]
     },
     "execution_count": 87,
     "metadata": {},
     "output_type": "execute_result"
    }
   ],
   "source": [
    "df['User Type'].value_counts()"
   ]
  },
  {
   "cell_type": "code",
   "execution_count": 82,
   "metadata": {},
   "outputs": [
    {
     "data": {
      "text/plain": [
       "6"
      ]
     },
     "execution_count": 82,
     "metadata": {},
     "output_type": "execute_result"
    }
   ],
   "source": [
    "df['month'] = df['Start Time'].dt.month\n",
    "\n",
    "(df['month']).mode()[0]"
   ]
  },
  {
   "cell_type": "code",
   "execution_count": 81,
   "metadata": {},
   "outputs": [
    {
     "data": {
      "text/plain": [
       "17"
      ]
     },
     "execution_count": 81,
     "metadata": {},
     "output_type": "execute_result"
    }
   ],
   "source": [
    "df['Hour'] = df['Start Time'].dt.hour\n",
    "\n",
    "(df['Hour']).mode()[0]"
   ]
  },
  {
   "cell_type": "code",
   "execution_count": 43,
   "metadata": {},
   "outputs": [
    {
     "name": "stdout",
     "output_type": "stream",
     "text": [
      "Total Trip Duration is: 280871787 H\n"
     ]
    }
   ],
   "source": [
    "total_trip_duration=round(df['Trip Duration'].sum(),2)\n",
    "print('Total Trip Duration is: {} H'.format(total_trip_duration))"
   ]
  },
  {
   "cell_type": "code",
   "execution_count": 44,
   "metadata": {},
   "outputs": [
    {
     "name": "stdout",
     "output_type": "stream",
     "text": [
      "3250 19 3387\n"
     ]
    }
   ],
   "source": [
    "seconds=total_trip_duration\n",
    "seconds_in_day = 60 * 60 * 24\n",
    "seconds_in_hour = 60 * 60\n",
    "seconds_in_minute = 60\n",
    "\n",
    "days = seconds // seconds_in_day\n",
    "hours = (seconds - (days * seconds_in_day)) // seconds_in_hour\n",
    "minutes = (seconds - (days * seconds_in_day) - (hours * seconds_in_hour)) \n",
    "print(days, hours, minutes)"
   ]
  },
  {
   "cell_type": "code",
   "execution_count": 33,
   "metadata": {},
   "outputs": [
    {
     "name": "stdout",
     "output_type": "stream",
     "text": [
      "Avg Trip Duration is: 15.6 min\n"
     ]
    }
   ],
   "source": [
    "avg_trip_duaration=round(df['Trip Duration'].mean()/60, 2)\n",
    "print('Avg Trip Duration is: {} min'.format(avg_trip_duaration))"
   ]
  },
  {
   "cell_type": "code",
   "execution_count": 34,
   "metadata": {},
   "outputs": [
    {
     "name": "stdout",
     "output_type": "stream",
     "text": [
      "(Lake Shore Dr & Monroe St, Streeter Dr & Grand Ave)             854\n",
      "(Streeter Dr & Grand Ave, Streeter Dr & Grand Ave)               712\n",
      "(Streeter Dr & Grand Ave, Theater on the Lake)                   561\n",
      "(Streeter Dr & Grand Ave, Lake Shore Dr & North Blvd)            538\n",
      "(Streeter Dr & Grand Ave, Lake Shore Dr & Monroe St)             526\n",
      "                                                                ... \n",
      "(Greenview Ave & Fullerton Ave, Milwaukee Ave & Wabansia Ave)      1\n",
      "(Kingsbury St & Erie St, Wood St & Taylor St)                      1\n",
      "(Wilton Ave & Diversey Pkwy, Campbell Ave & Fullerton Ave)         1\n",
      "(Sheridan Rd & Loyola Ave, Clark St & Armitage Ave)                1\n",
      "(Halsted St & Roscoe St, Elston Ave & Wabansia Ave)                1\n",
      "Name: trips, Length: 47115, dtype: int64\n",
      "The most common Trip is : ('Lake Shore Dr & Monroe St', 'Streeter Dr & Grand Ave')\n"
     ]
    }
   ],
   "source": [
    "df['trips'] = list(zip(df.SStation, df.EStation))\n",
    "\n",
    "trip_count=df['trips'].value_counts()\n",
    "\n",
    "most_common_trip=trip_count.index[0]\n",
    "print(trip_count)\n",
    "print('The most common Trip is : {}'.format(most_common_trip))"
   ]
  },
  {
   "cell_type": "code",
   "execution_count": 21,
   "metadata": {},
   "outputs": [
    {
     "name": "stdout",
     "output_type": "stream",
     "text": [
      "computing the start station count...../...\n",
      "Streeter Dr & Grand Ave         6911\n",
      "Clinton St & Washington Blvd    4306\n",
      "Lake Shore Dr & Monroe St       4289\n",
      "Clinton St & Madison St         3744\n",
      "Canal St & Adams St             3443\n",
      "                                ... \n",
      "Morgan St & Pershing Rd            1\n",
      "Ellis Ave & 83rd St                1\n",
      "Laramie Ave & Kinzie St            1\n",
      "Racine Ave & 65th St               1\n",
      "Kenton Ave & Madison St            1\n",
      "Name: SStation, Length: 568, dtype: int64\n",
      "finished\n",
      "most common start is: Streeter Dr & Grand Ave\n"
     ]
    }
   ],
   "source": [
    "print(\"computing the start station count...../...\")\n",
    "print(start_station_count)\n",
    "print(\"finished\")\n",
    "print(\"most common start is: {}\".format(most_common_start))"
   ]
  },
  {
   "cell_type": "code",
   "execution_count": 22,
   "metadata": {},
   "outputs": [
    {
     "name": "stdout",
     "output_type": "stream",
     "text": [
      "computing the end station count...../...\n",
      "Streeter Dr & Grand Ave         7512\n",
      "Clinton St & Washington Blvd    4166\n",
      "Lake Shore Dr & Monroe St       4016\n",
      "Clinton St & Madison St         4014\n",
      "Lake Shore Dr & North Blvd      3863\n",
      "                                ... \n",
      "Throop St & 52nd St                1\n",
      "Kostner Ave & Adams St             1\n",
      "Cicero Ave & Quincy St             1\n",
      "Wabash Ave & 87th St               1\n",
      "Seeley Ave & Garfield Blvd         1\n",
      "Name: EStation, Length: 572, dtype: int64\n",
      "finished\n"
     ]
    }
   ],
   "source": [
    "\n",
    "print(\"computing the end station count...../...\")\n",
    "print(end_station_count)\n",
    "print(\"finished\")\n"
   ]
  },
  {
   "cell_type": "code",
   "execution_count": null,
   "metadata": {},
   "outputs": [],
   "source": []
  }
 ],
 "metadata": {
  "kernelspec": {
   "display_name": "Python 3.7.5 64-bit",
   "language": "python",
   "name": "python37564bit858a344bf14244a99619ef4336c36f35"
  },
  "language_info": {
   "codemirror_mode": {
    "name": "ipython",
    "version": 3
   },
   "file_extension": ".py",
   "mimetype": "text/x-python",
   "name": "python",
   "nbconvert_exporter": "python",
   "pygments_lexer": "ipython3",
   "version": "3.7.5"
  }
 },
 "nbformat": 4,
 "nbformat_minor": 4
}
